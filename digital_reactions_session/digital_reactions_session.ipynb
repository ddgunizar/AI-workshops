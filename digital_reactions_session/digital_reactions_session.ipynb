{
 "cells": [
  {
   "cell_type": "markdown",
   "id": "68c63c80-a5eb-475a-87b3-3db99cd992fc",
   "metadata": {},
   "source": [
    "# Digital chemical reactions - Seminar Notebook"
   ]
  },
  {
   "cell_type": "code",
   "execution_count": null,
   "id": "b3023713-1ca0-4543-a55d-43d5f3ea6698",
   "metadata": {},
   "outputs": [],
   "source": [
    "# Imports\n",
    "from rdkit import Chem\n",
    "from rdkit.Chem import Draw\n",
    "from rdkit.Chem.Draw import IPythonConsole\n",
    "import pandas as pd\n",
    "from rdkit.Chem import AllChem\n",
    "from rdkit.Chem import SDWriter, SDMolSupplier\n",
    "from rdkit.Chem import rdChemReactions"
   ]
  },
  {
   "cell_type": "markdown",
   "id": "e1ef4d6e-1167-4364-bdd8-b13046d7c4d8",
   "metadata": {
    "jp-MarkdownHeadingCollapsed": true
   },
   "source": [
    "### 0. SMILES"
   ]
  },
  {
   "cell_type": "markdown",
   "id": "04e83f0c-fefc-4cd8-8628-9be47741c92d",
   "metadata": {},
   "source": [
    "#### 0.0. Introduction to SMILES\n",
    "\n",
    "**SMILES (Simplified Molecular Input Line Entry System)** is a specification that encodes molecular structures into a line of text using short ASCII strings. These strings provide a compact and human-readable way to represent molecules, and are widely used in cheminformatics for storing, sharing, and processing chemical data.\n",
    "\n",
    "**Why are SMILES important?**\n",
    "- They provide a standard format to represent molecules digitally.\n",
    "- They can be easily parsed by computers and are supported by many cheminformatics libraries (e.g., RDKit).\n",
    "- They enable descriptor generation and molecular modeling, which you'll explore in depth in the next session.\n",
    "\n",
    "**What is RDKit?**\n",
    "\n",
    "RDKit is an open-source cheminformatics toolkit that allows the manipulation of chemical information, including SMILES parsing, molecular descriptor calculation, substructure searching, and chemical reaction modeling.\n",
    "\n",
    "**What is a Mol object?**\n",
    "\n",
    "In RDKit, a Mol object is a Python representation of a molecule. It is typically created from a SMILES string or a structure file (like `.sdf`), and can be used for visualization, property calculations, and transformations.\n",
    "\n",
    "**Basic SMILES Rules**:\n",
    "- Atoms are represented by atomic symbols (e.g., C for carbon, O for oxygen).\n",
    "- Single bonds are implied; double (=), triple (#), and aromatic bonds (:) are explicitly written.\n",
    "- Branches are represented using parentheses.\n",
    "- Rings are encoded by numbers that indicate where the ring opens and closes.\n",
    "\n",
    "**Useful references**:\n",
    "- [Daylight SMILES Tutorial](http://www.daylight.com/dayhtml/doc/theory/theory.smiles.html)\n",
    "- [RDKit SMILES Documentation](https://www.rdkit.org/docs/source/rdkit.Chem.rdmolfiles.html#rdkit.Chem.rdmolfiles.MolFromSmiles)\n",
    "- [Wikipedia - SMILES](https://en.wikipedia.org/wiki/Simplified_molecular-input_line-entry_system)"
   ]
  },
  {
   "cell_type": "markdown",
   "id": "a1c8a22f-3ee9-42d9-9f68-b8f216dba00b",
   "metadata": {
    "jp-MarkdownHeadingCollapsed": true
   },
   "source": [
    "#### 0.1. Some basic SMILES examples"
   ]
  },
  {
   "cell_type": "code",
   "execution_count": null,
   "id": "3ca4acaa",
   "metadata": {},
   "outputs": [],
   "source": [
    "# Convert SMILES to molecule objects (Mol)\n",
    "\n",
    "# Create a list of SMILES named smiles_list\n",
    "smiles_list = [\n",
    "    \"CCO\",        # ethanol\n",
    "    \"c1ccccc1\",   # benzene\n",
    "    \"CC(=O)O\",    # acetic acid\n",
    "    \"C1=CC=CC=C1O\" # phenol\n",
    "]\n",
    "\n",
    "print(smiles_list)"
   ]
  },
  {
   "cell_type": "code",
   "execution_count": null,
   "id": "53d4e079-5952-4dc7-b3d1-8cf551edd08b",
   "metadata": {},
   "outputs": [],
   "source": [
    "# Generate molecule objects (Mol), in one line\n",
    "mols = [Chem.MolFromSmiles(smi) for smi in smiles_list]\n",
    "\n",
    "print(mols)\n",
    "print(type(mols))"
   ]
  },
  {
   "cell_type": "code",
   "execution_count": null,
   "id": "bdc10b17-99f0-4ae0-942a-1875797c80c2",
   "metadata": {},
   "outputs": [],
   "source": [
    "# Display molecules\n",
    "Draw.MolsToGridImage(mols, molsPerRow=4, subImgSize=(200, 200), legends=smiles_list)"
   ]
  },
  {
   "cell_type": "markdown",
   "id": "22d6788b-f41f-4b51-b690-e04a0a321024",
   "metadata": {
    "jp-MarkdownHeadingCollapsed": true
   },
   "source": [
    "#### 0.2. SMILES from CSV file"
   ]
  },
  {
   "cell_type": "code",
   "execution_count": null,
   "id": "48e80722-3f02-4a33-931e-2fd6976abb2e",
   "metadata": {},
   "outputs": [],
   "source": [
    "# Loading SMILES from a CSV file\n",
    "\"\"\"\n",
    "In many real-world scenarios, chemical data is stored in external files like CSVs. Here, we'll load a file with molecule names and their \n",
    "corresponding SMILES strings, and visualize them using RDKit.\n",
    "\n",
    "What is a CSV file?\n",
    "A CSV (Comma-Separated Values) file is a simple, plain-text file used to store tabular data, where each line represents a row and columns\n",
    "are separated by commas. It's commonly used for exchanging structured data between programs like Excel, Python (via pandas), and databases.\n",
    "\"\"\"\n",
    "\n",
    "# Create a sample DataFrame and save as CSV (in practice this file would already exist)\n",
    "data = {\n",
    "    \"code_name\": [\"ethanol\", \"benzene\", \"acetic_acid\"],\n",
    "    \"SMILES\": [\"CCO\", \"c1ccccc1\", \"CC(=O)O\"]\n",
    "}\n",
    "df = pd.DataFrame(data)\n",
    "df.to_csv(\"molecules.csv\", index=False)\n",
    "\n",
    "print(df)\n",
    "print(type(df))"
   ]
  },
  {
   "cell_type": "code",
   "execution_count": null,
   "id": "b425c0d8-ade7-4dca-888d-85a3dbf2f2c9",
   "metadata": {},
   "outputs": [],
   "source": [
    "# Load the CSV\n",
    "df_loaded = pd.read_csv(\"molecules.csv\")\n",
    "print(df_loaded)\n",
    "\n",
    "# Convert SMILES to Mol and visualize\n",
    "mols_csv = [Chem.MolFromSmiles(smi) for smi in df_loaded[\"SMILES\"]]\n",
    "Draw.MolsToGridImage(mols_csv, molsPerRow=3, subImgSize=(200, 200), legends=df_loaded[\"code_name\"].tolist())"
   ]
  },
  {
   "cell_type": "markdown",
   "id": "19f2752a-ad27-4210-b103-af6086a7e147",
   "metadata": {
    "jp-MarkdownHeadingCollapsed": true
   },
   "source": [
    "#### 0.3. SMILES from SDF file"
   ]
  },
  {
   "cell_type": "code",
   "execution_count": null,
   "id": "334a4409-45e7-4c20-b2d2-10e21368c178",
   "metadata": {
    "scrolled": true
   },
   "outputs": [],
   "source": [
    "\"\"\"\n",
    "Reading molecules from an SDF file\n",
    "\n",
    "SDF (Structure Data File) is a widely used file format for storing multiple molecular structures along with metadata. \n",
    "RDKit can parse these files and convert them into Mol objects.\n",
    "\n",
    "Below is a demonstration of how to load molecules from an SDF file. You can replace 'nitriles.sdf' with any real dataset.\n",
    "\"\"\"\n",
    "\n",
    "# Load from SDF (have to be in the same folder than this .ipynb file)\n",
    "sdf_file = SDMolSupplier(\"nitriles.sdf\")\n",
    "\n",
    "mols = []\n",
    "for mol in sdf_file:\n",
    "    if mol is not None: # Filter out None values (invalid mols)\n",
    "        mols.append(mol)\n",
    "\n",
    "Draw.MolsToGridImage(mols[:5], molsPerRow=6, subImgSize=(200, 200))"
   ]
  },
  {
   "cell_type": "code",
   "execution_count": null,
   "id": "9e20396c-5fa4-49de-a853-ce4ad0d412de",
   "metadata": {},
   "outputs": [],
   "source": [
    "# create the list of mols and filter out None values (invalid mols) in just one line\n",
    "valid_mols = [mol for mol in sdf_file if mol is not None]\n",
    "\n",
    "# Display first few molecules\n",
    "Draw.MolsToGridImage(valid_mols, molsPerRow=7, subImgSize=(200, 200))"
   ]
  },
  {
   "cell_type": "markdown",
   "id": "eb00b051-06df-4d7e-9bc4-fd1dfdf30b6f",
   "metadata": {
    "jp-MarkdownHeadingCollapsed": true
   },
   "source": [
    "#### 0.4. It's your turn!"
   ]
  },
  {
   "cell_type": "code",
   "execution_count": null,
   "id": "6dc8543c-7a92-4be8-bf51-ebe540338580",
   "metadata": {},
   "outputs": [],
   "source": [
    "\"\"\"\n",
    "Try the following tasks based on what you've learned so far:\n",
    "\n",
    "1. Convert the following SMILES string into a Mol and visualize it: `CCN(CC)CC` (triethylamine)\n",
    "2. Load the CSV file again and visualize the molecules.\n",
    "3. Load your own SDF file and display the first few molecules.\n",
    "\n",
    "Use the cells below to practice:\n",
    "\"\"\""
   ]
  },
  {
   "cell_type": "code",
   "execution_count": null,
   "id": "2f2d81de-1d7f-4e51-8964-0926ee89926a",
   "metadata": {
    "scrolled": true
   },
   "outputs": [],
   "source": [
    "# Task 1: Convert this SMILES to a Mol and visualize\n",
    "practice_smiles = \"CCN(CC)CC\"\n",
    "# Your code here\n"
   ]
  },
  {
   "cell_type": "code",
   "execution_count": null,
   "id": "4a862eaa-3816-493b-861d-84c96f061372",
   "metadata": {},
   "outputs": [],
   "source": [
    "# Task 2: From the CSV file 'oxygenated_compounds.csv', convert the SMILES to a Mol and visualize\n",
    "csv_file = 'oxygenated_compounds.csv'\n",
    "# Your code here\n"
   ]
  },
  {
   "cell_type": "code",
   "execution_count": null,
   "id": "7486344c-d383-4b31-bee6-bdc693049a41",
   "metadata": {},
   "outputs": [],
   "source": [
    "# Task 3: From the SDF file alkynes.csv, convert the SMILES to a Mol and visualize\n",
    "sdf_file = 'alkynes.sdf'\n",
    "# Your code here\n"
   ]
  },
  {
   "cell_type": "markdown",
   "id": "13199bd1-5162-4107-a5cc-28ca9139f8be",
   "metadata": {
    "jp-MarkdownHeadingCollapsed": true
   },
   "source": [
    "### 1. SMARTS"
   ]
  },
  {
   "cell_type": "markdown",
   "id": "5f5020ef-dae4-433e-b5c5-a7097c875d21",
   "metadata": {},
   "source": [
    "#### 1.0. Introduction to SMARTS\n",
    "\n",
    "**SMARTS (SMILES Arbitrary Target Specification)** is a powerful language used to define substructures in molecules. While SMILES describes entire molecules, SMARTS allows you to describe **patterns or fragments** to match within molecules, making it ideal for filtering, searching, and performing **digital reactions**.\n",
    "\n",
    "**Why use SMARTS?**\n",
    "- Substructure matching in large datasets\n",
    "- Defining reactants or transformation rules in digital reactions\n",
    "- Functional group identification\n",
    "\n",
    "**10 Useful Basic SMARTS Rules**:\n",
    "1. `[#6]` — Carbon atom\n",
    "2. `[O]` — Oxygen atom\n",
    "3. `[#7]` — Nitrogen atom\n",
    "4. `[C]=[O]` — Carbon double bonded to Oxygen (e.g., carbonyl group)\n",
    "5. `[OH]` — Hydroxyl group\n",
    "6. `[CH3]` — Methyl group\n",
    "7. `[nH]` — Aromatic nitrogen with hydrogen (e.g., in indole)\n",
    "8. `[R]` — Ring atom\n",
    "9. `[!#6]` — Any atom except carbon\n",
    "10. `*` — Any atom (wildcard)\n",
    "\n",
    "**SMARTS Resources**:\n",
    "- [Daylight SMARTS Tutorial](http://www.daylight.com/dayhtml/doc/theory/theory.smarts.html)\n",
    "- [RDKit SMARTS Examples](https://www.rdkit.org/docs/Cookbook.html#substructure-matching)\n",
    "- [SMARTS Tutorial](https://www.daylight.com/dayhtml_tutorials/languages/smarts/)\n",
    "- [SMARTS Examples](https://www.daylight.com/dayhtml_tutorials/languages/smarts/smarts_examples.html)"
   ]
  },
  {
   "cell_type": "markdown",
   "id": "96955c17-869f-4fc1-a0c8-e768efdb2e5c",
   "metadata": {
    "jp-MarkdownHeadingCollapsed": true
   },
   "source": [
    "#### 1.1. Basic examples of SMARTS"
   ]
  },
  {
   "cell_type": "code",
   "execution_count": null,
   "id": "0a6cd99a-7827-42a9-8977-b303a5862ed6",
   "metadata": {},
   "outputs": [],
   "source": [
    "# Define a molecule and convert SMILES into molecule objects (MOL)\n",
    "molecule = \"CCN(CC)CC\"\n",
    "mol = Chem.MolFromSmiles(\"CCN(CC)CC\")\n",
    "\n",
    "# Does the molecule contain N?\n",
    "# Define the pattern\n",
    "pattern = \"N\"\n",
    "\n",
    "# Convert SMARTS into MOL \n",
    "mol_pattern = Chem.MolFromSmarts(pattern)\n",
    "print(mol_pattern)\n",
    "print(type(mol_pattern))\n",
    "\n",
    "# Does the molecule contain N?\n",
    "print(mol.HasSubstructMatch(mol_pattern)) # will return a boolean\n",
    "print(type(mol.HasSubstructMatch(mol_pattern)))"
   ]
  },
  {
   "cell_type": "code",
   "execution_count": null,
   "id": "94299136-088f-4a9f-bac3-6343cef87ef8",
   "metadata": {},
   "outputs": [],
   "source": [
    "# Define two lists\n",
    "smiles_list = [\"CC(=O)N\", 'CC#N', 'CCN']\n",
    "name_list = [\"acetamide\", \"acetonitrile\", \"ethylamine\"]\n",
    "\n",
    "# Create a dictionary\n",
    "dict_smiles = {\n",
    "    'SMILES': smiles_list,\n",
    "    'code_name': name_list\n",
    "}\n",
    "print(dict_smiles)\n",
    "\n",
    "# Create the DataFrame from a dictionary\n",
    "new_df = pd.DataFrame(dict_smiles)\n",
    "print(new_df)"
   ]
  },
  {
   "cell_type": "code",
   "execution_count": null,
   "id": "2d7ed201-c742-42da-9fd8-c7809272b304",
   "metadata": {},
   "outputs": [],
   "source": [
    "# Which molecules contain nitrogen?\n",
    "\n",
    "# Define the pattern\n",
    "pattern1 = \"N\" # Nitrogen\n",
    "mol_pattern1 = Chem.MolFromSmarts(pattern1)\n",
    "\n",
    "# Check if molecules of new_df match the pattern1\n",
    "smi_match1 = []\n",
    "for smi in new_df['SMILES']:\n",
    "    mol = Chem.MolFromSmiles(smi)\n",
    "    if mol.HasSubstructMatch(mol_pattern1): # only if it is True\n",
    "        smi_match1.append(smi)\n",
    "        \n",
    "print (smi_match1)\n",
    "\n",
    "# How many molecules pass the filter?\n",
    "print(f'{len(smi_match1)} molecules pass the filter')\n"
   ]
  },
  {
   "cell_type": "code",
   "execution_count": null,
   "id": "fa667a9b-4e68-40ea-a546-7f755f0897a6",
   "metadata": {},
   "outputs": [],
   "source": [
    "# Which molecules contain amino groups?\n",
    "pattern2 = \"[NX3]\" # Atom with 3 total bonds (includes implicit H's)\n",
    "mol_pattern2 = Chem.MolFromSmarts(pattern2)\n",
    "\n",
    "# Create a list of mols, easier to work with\n",
    "mols_molecules = [Chem.MolFromSmiles(smi) for smi in new_df['SMILES']]\n",
    "\n",
    "# Check if molecules of new_df match the pattern2\n",
    "smi_match2 = []\n",
    "for mol in mols_molecules:\n",
    "    if mol.HasSubstructMatch(mol_pattern2): # only if it is True\n",
    "        smi_match2.append(Chem.MolToSmiles(mol))\n",
    "        \n",
    "print (smi_match2)\n",
    "\n",
    "# How many molecules pass the filter?\n",
    "print(f'{len(smi_match2)} molecules pass the filter???')"
   ]
  },
  {
   "cell_type": "code",
   "execution_count": null,
   "id": "7fba5f49-6858-4363-92df-87336feeb275",
   "metadata": {},
   "outputs": [],
   "source": [
    "# Solving the problem\n",
    "# Which molecules contain amino groups?\n",
    "pattern2 = \"[NX3;!$(NC=O)]\" # Amino groups\n",
    "\n",
    "mol_pattern2 = Chem.MolFromSmarts(pattern2)\n",
    "\n",
    "# Create a list of mols, easier to work with\n",
    "mols_molecules = [Chem.MolFromSmiles(smi) for smi in new_df['SMILES']]\n",
    "\n",
    "# Check if molecules of new_df match the pattern2\n",
    "smi_match2 = []\n",
    "for mol in mols_molecules:\n",
    "    if mol.HasSubstructMatch(mol_pattern2): # only if it is True\n",
    "        smi_match2.append(Chem.MolToSmiles(mol))\n",
    "        \n",
    "print (smi_match2)\n",
    "\n",
    "# How many molecules pass the filter?\n",
    "print(f'{len(smi_match2)} molecules pass the filter')"
   ]
  },
  {
   "cell_type": "code",
   "execution_count": null,
   "id": "1f45bf95-6ca0-4e17-9ad9-a2c9b79c3997",
   "metadata": {},
   "outputs": [],
   "source": [
    "# Which molecules contain cyano groups?\n",
    "\n",
    "# Define the pattern\n",
    "\n",
    "pattern3 = \"N#C\" # Cyano groups\n",
    "mol_pattern3 = Chem.MolFromSmarts(pattern3)\n",
    "\n",
    "# Check if molecules of new_df match the pattern2\n",
    "smi_match3 = []\n",
    "for mol in mols_molecules:\n",
    "    if mol.HasSubstructMatch(mol_pattern3): # only if it is True\n",
    "        smi_match3.append(Chem.MolToSmiles(mol))\n",
    "        \n",
    "print (smi_match3)\n",
    "\n",
    "# How many molecules pass the filter?\n",
    "print(f'{len(smi_match3)} molecules pass the filter')\n"
   ]
  },
  {
   "cell_type": "code",
   "execution_count": null,
   "id": "0f87cad2-c0d1-4a6f-90a6-56439ad70a92",
   "metadata": {},
   "outputs": [],
   "source": [
    "# Define some SMARTS patterns and test them on molecules\n",
    "patterns = {\n",
    "    \"alcohol\": Chem.MolFromSmarts(\"[CX4][OH]\"),\n",
    "    \"aromatic ring\": Chem.MolFromSmarts(\"c1ccccc1\"),\n",
    "    \"carbonyl\": Chem.MolFromSmarts(\"[CX3]=[OX1]\")\n",
    "}\n",
    "\n",
    "example_mols = [Chem.MolFromSmiles(smi) for smi in [\"CCO\", \"c1ccccc1\", \"CC(=O)O\"]]\n",
    "\n",
    "# Check if molecules match each pattern\n",
    "for name, pattern in patterns.items():\n",
    "    print(f\"\\nSMARTS pattern: {name}\")\n",
    "    for mol in example_mols:\n",
    "        print(f\"Matches: {mol.HasSubstructMatch(pattern)} for {Chem.MolToSmiles(mol)}\")\n",
    "\n",
    "Draw.MolsToGridImage(example_mols, molsPerRow=3, subImgSize=(200,200))"
   ]
  },
  {
   "cell_type": "markdown",
   "id": "e44e6e73-edd2-45b4-a444-5cf66d688203",
   "metadata": {
    "jp-MarkdownHeadingCollapsed": true
   },
   "source": [
    "#### 1.2. Applying SMARTS - Filtering an SDF file"
   ]
  },
  {
   "cell_type": "code",
   "execution_count": null,
   "id": "654d4ada-4222-41ea-bd00-2e66c92cfb99",
   "metadata": {},
   "outputs": [],
   "source": [
    "\"\"\"\n",
    "### SMARTS Filtering in a Molecule Set\n",
    "We'll simulate loading an SDF file with 20 small organic molecules, and apply a SMARTS pattern to filter those containing a carbonyl group.\n",
    "\"\"\"\n",
    "\n",
    "# Read the SDF file sample_mols.sdf\n",
    "sdf_supplier = SDMolSupplier(\"sample_mols.sdf\")\n",
    "# \"[NX3;!$(NC=O)]\" \n",
    "carbonyl_pattern = Chem.MolFromSmarts('[#6][CX3](=O)[#6]')\n",
    "\n",
    "matched, unmatched = [], []\n",
    "for mol in sdf_supplier:\n",
    "    if mol is not None:\n",
    "        (matched if mol.HasSubstructMatch(carbonyl_pattern) else unmatched).append(mol)\n",
    "\n",
    "print(f\"Matched: {len(matched)} | Unmatched: {len(unmatched)}\")\n",
    "Draw.MolsToGridImage(matched, molsPerRow=6, subImgSize=(200,200))\n"
   ]
  },
  {
   "cell_type": "markdown",
   "id": "2bb5c322-dddf-44ff-84f3-498befe6c507",
   "metadata": {
    "jp-MarkdownHeadingCollapsed": true
   },
   "source": [
    "#### 1.3. It's your turn!"
   ]
  },
  {
   "cell_type": "code",
   "execution_count": null,
   "id": "7a615d70-5bbd-486a-8207-325eecba4a39",
   "metadata": {},
   "outputs": [],
   "source": [
    "# Task 4: Does this molecule contain any oxygen atoms? Solve by applying SMART, obtaining a boolean\n",
    "molecule = \"CCN(CC)CC\"\n",
    "# Your code here\n"
   ]
  },
  {
   "cell_type": "code",
   "execution_count": null,
   "id": "53342e72-a576-422d-8027-a275b1cbe012",
   "metadata": {},
   "outputs": [],
   "source": [
    "# Task 5: Filter molecules containing carboxylic acid groups using SMARTS and visualize them\n",
    "\"\"\"\n",
    "SMARTS Filtering from CSV\n",
    "\n",
    "We've prepared a CSV with some oxygenated compounds Your task is to:\n",
    "\n",
    "- Load the CSV into a DataFrame\n",
    "- Convert the SMILES to Mol objects\n",
    "- Define a SMARTS pattern for carboxylic acid groups\n",
    "- Filter and visualize only the molecules containing carboxylic acid groups groups\n",
    "\n",
    "Hint: Beware of aldehydes and ester.\n",
    "\"\"\"\n",
    "csv_file = 'oxygenated_compounds.csv'\n",
    "# Your code here\n"
   ]
  },
  {
   "cell_type": "markdown",
   "id": "0f904ea9-860a-47e8-a76e-a3d9fb39c3c3",
   "metadata": {
    "jp-MarkdownHeadingCollapsed": true
   },
   "source": [
    "### 2. DIGITAL CHEMICAL REACTIONS"
   ]
  },
  {
   "cell_type": "markdown",
   "id": "7693c26a-2a6e-4042-a0a1-a36f23a57779",
   "metadata": {},
   "source": [
    "#### 2.0. Introduction to Digital Chemical Reactions"
   ]
  },
  {
   "cell_type": "markdown",
   "id": "777f36f4-4d3b-4030-9655-0ef2ec6d5339",
   "metadata": {},
   "source": [
    "Digital chemical reactions simulate real chemical transformations using SMARTS-based reaction templates. These templates define the transformation logic (reactant patterns → product structure) and can be applied programmatically using RDKit's `rdChemReactions` module.\n",
    "\n",
    "**Common uses**:\n",
    "- Automating reaction design\n",
    "- Virtual synthesis of new molecules\n",
    "- Filtering or modifying compound libraries\n",
    "\n",
    "**Basic Imports for Digital Reactions**:\n",
    "```python\n",
    "from rdkit.Chem import rdChemReactions\n",
    "```\n",
    "\n",
    "**Structure**:\n",
    "```python\n",
    "rxn = rdChemReactions.ReactionFromSmarts(\"[C:1]=[O:2].[N:3]>>[C:1](N:3)[O:2]\")\n",
    "products = rxn.RunReactants((mol1, mol2))\n",
    "```\n",
    "\n",
    "**Common pitfalls**:\n",
    "- Reactants must match the SMARTS pattern exactly.\n",
    "- Atom mapping (`:[n]`) is essential to track atoms during transformations.\n",
    "- Input molecule order matters for multi-reactant reactions.\n",
    "\n",
    "**Resources**:\n",
    "- [RDKit Reaction Guide](https://www.rdkit.org/docs/Cookbook.html#using-chemical-reactions)\n",
    "- [Reaction SMARTS - Daylight](http://www.daylight.com/dayhtml/doc/theory/theory.reactions.html)\n",
    "- [SMARTS display](https://smarts.plus/)"
   ]
  },
  {
   "cell_type": "markdown",
   "id": "ed0a30b3-709d-4ce7-ab7b-d7fc67af422a",
   "metadata": {
    "jp-MarkdownHeadingCollapsed": true
   },
   "source": [
    "#### 2.1. Basic examples of digital reactions"
   ]
  },
  {
   "cell_type": "code",
   "execution_count": null,
   "id": "8945844e-d9aa-4f04-8176-3ddb427f737e",
   "metadata": {},
   "outputs": [],
   "source": [
    "# Define a simple esterification reaction: carboxylic acid + alcohol -> ester\n",
    "rxn = rdChemReactions.ReactionFromSmarts(\"[C:1](=O)[O:2].[O:3][C:4]>>[C:1](=O)[O:3][C:4].[O:2]\")\n",
    "\n",
    "acid = Chem.MolFromSmiles(\"CC(=O)O\")\n",
    "alcohol = Chem.MolFromSmiles(\"CO\")\n",
    "\n",
    "products = rxn.RunReactants((acid, alcohol))\n",
    "Draw.MolsToGridImage([p[0] for p in products])"
   ]
  },
  {
   "cell_type": "markdown",
   "id": "f2e76d90-c838-4417-91c5-148eb1a33c52",
   "metadata": {
    "jp-MarkdownHeadingCollapsed": true
   },
   "source": [
    "#### 2.1. Digital Reactions from a CSV (Automated Reaction Workflow)"
   ]
  },
  {
   "cell_type": "code",
   "execution_count": null,
   "id": "75aa714c-eafa-4ed9-8b28-910dda48bd71",
   "metadata": {},
   "outputs": [],
   "source": [
    "# Load CSV with molecules\n",
    "df = pd.read_csv(\"oxygenated_compounds.csv\")\n",
    "df[\"mol_object\"] = df[\"SMILES\"].apply(Chem.MolFromSmiles)\n",
    "# print(df)\n",
    "Draw.MolsToGridImage(df[\"mol_object\"], molsPerRow=5, subImgSize=(200, 200))"
   ]
  },
  {
   "cell_type": "code",
   "execution_count": null,
   "id": "69c2d5c9-31b2-4246-8213-72b3d995b604",
   "metadata": {},
   "outputs": [],
   "source": [
    "# Define a simple ketone → enol conversion\n",
    "rxn = rdChemReactions.ReactionFromSmarts(\"[C:0][C:1](=O)[C:2]>>[C:0][C:1](O)(=[C:2])\")\n",
    "\n",
    "product_names, product_smiles = [], []\n",
    "\n",
    "for i, mol in enumerate(df[\"mol_object\"]):  # i is just the enumeration (0, 1, 2, 3...)\n",
    "    if mol is None:  # only continues if the mole (SMILE) is valid\n",
    "        continue\n",
    "    ps = rxn.RunReactants((mol,))    # The double parentheses are because it expects a tuple\n",
    "    if ps:   # check if the reaction gaives any product\n",
    "        product = ps[0][0]    # ps is a list of results, each being a tuple of products.\n",
    "        product_names.append(f\"product_{i+1}\")    # defining the product name and adding it to the list\n",
    "        product_smiles.append(Chem.MolToSmiles(product))    # adding the SMILE to the second list\n",
    "        \n",
    "# Saving it as a df\n",
    "product_df = pd.DataFrame({\"product_name\": product_names, \"product_smiles\": product_smiles})\n",
    "# Saving it as a CSV file titled \"digital_products.csv\"\n",
    "product_df.to_csv(\"digital_products.csv\", index=False)\n",
    "product_df.head()\n",
    "print(product_df.head())\n",
    "\n",
    "product_df['mol_object'] = product_df[\"product_smiles\"].apply(Chem.MolFromSmiles)\n",
    "\n",
    "Draw.MolsToGridImage(product_df['mol_object'], molsPerRow=5, subImgSize=(200, 200))"
   ]
  },
  {
   "cell_type": "code",
   "execution_count": null,
   "id": "b84c5333-549d-4f8f-bed4-0d9326ac9245",
   "metadata": {},
   "outputs": [],
   "source": [
    "# Define a simple ketone → enol conversion\n",
    "rxn = rdChemReactions.ReactionFromSmarts(\"[#6:0][C:1](=O)[C:2]>>[#6:0][C:1](O)(=[C:2])\")\n",
    "\n",
    "product_names, product_smiles = [], []\n",
    "\n",
    "for i, mol in enumerate(df[\"mol_object\"]):  # i is just the enumeration (0, 1, 2, 3...)\n",
    "    if mol is None:  # only continues if the mole (SMILE) is valid\n",
    "        continue\n",
    "    ps = rxn.RunReactants((mol,))    # The double parentheses are because it expects a tuple\n",
    "    if ps:   # check if the reaction gaives any product\n",
    "        product = ps[0][0]    # ps is a list of results, each being a tuple of products.\n",
    "        product_names.append(f\"product_{i+1}\")    # defining the product name and adding it to the list\n",
    "        product_smiles.append(Chem.MolToSmiles(product))    # adding the SMILE to the second list\n",
    "        \n",
    "# Saving it as a df\n",
    "product_df = pd.DataFrame({\"product_name\": product_names, \"product_smiles\": product_smiles})\n",
    "# Saving it as a CSV file titled \"digital_products.csv\"\n",
    "product_df.to_csv(\"digital_products.csv\", index=False)\n",
    "print(product_df.head())\n",
    "\n",
    "product_df['mol_object'] = product_df[\"product_smiles\"].apply(Chem.MolFromSmiles)\n",
    "\n",
    "Draw.MolsToGridImage(product_df['mol_object'], molsPerRow=5, subImgSize=(200, 200))"
   ]
  },
  {
   "cell_type": "markdown",
   "id": "08278768-fc2c-4e04-8b88-a16ba5c91860",
   "metadata": {
    "jp-MarkdownHeadingCollapsed": true
   },
   "source": [
    "#### 2.3. Digital Reactions from an SDF File"
   ]
  },
  {
   "cell_type": "code",
   "execution_count": null,
   "id": "fae00e2f-4fa1-497c-834e-6f403816acc7",
   "metadata": {},
   "outputs": [],
   "source": [
    "sdf_supplier = SDMolSupplier(\"sample_mols.sdf\")\n",
    "\n",
    "# Reaction: Replace ketone (C=O) with alkene (C=C)\n",
    "rxn = rdChemReactions.ReactionFromSmarts(\"[#6:1][C:2](=O)[#6:3]>>[#6:1][C:2]=[C:3]\")\n",
    "\n",
    "alkenes = []\n",
    "for mol in sdf_supplier:   # Iterate through each molecule in the .sdf file.\n",
    "    if mol is None:        # Ignore any that are incorrectly formatted or empty.\n",
    "        continue\n",
    "    ps = rxn.RunReactants((mol,))   # Apply the digital reaction to each molecule.\n",
    "    if ps:                          # If there is a result, continue.\n",
    "        alkenes.append(ps[0][0])    # Save the first generated product.\n",
    "\n",
    "Draw.MolsToGridImage(alkenes, molsPerRow=4)"
   ]
  },
  {
   "cell_type": "markdown",
   "id": "26cf2591-9908-4efb-8c07-89f17e18de76",
   "metadata": {
    "jp-MarkdownHeadingCollapsed": true
   },
   "source": [
    "#### 2.4. Multicomponent Digital Reactions"
   ]
  },
  {
   "cell_type": "code",
   "execution_count": null,
   "id": "b0e95d52-25b1-45ec-adf9-4998f9bbfee1",
   "metadata": {},
   "outputs": [],
   "source": [
    "\"\"\"\n",
    "Using the `alkynes.sdf` and `nitriles.sdf` files, your task is:\n",
    "\n",
    "- Load the alkynes and nitriles.\n",
    "- Use a reaction rule to enerate pyridine-like structures from 2 alkynes (the same) and 1 nitrile.\n",
    "- Depending on the orientation in which the cycloadditions occur, up to four structural isomers of pyridines can be generated. \n",
    "- Explore all combinations of the 6 alkynes with the 6 nitriles, including all their conformers.\n",
    "\n",
    "Notes:\n",
    "- The alkynes.sdf file contains only terminal alkynes.\n",
    "- You can see the molecules present in each sdf file by opening it with ChemDraw.\n",
    "\n",
    "Start by exploring the structures in the SDF files and plan your SMARTS accordingly.\n",
    "\"\"\""
   ]
  },
  {
   "cell_type": "code",
   "execution_count": null,
   "id": "ca0b7fbd-5450-4dad-950e-88ce16ca793c",
   "metadata": {},
   "outputs": [],
   "source": [
    "# 1. Load SDF files\n",
    "alkyne_supplier = SDMolSupplier(\"alkynes_reducido.sdf\")\n",
    "nitrile_supplier = SDMolSupplier(\"nitriles_reducido.sdf\")\n",
    "\n",
    "# 2. Extract valid molecules and names # list o\n",
    "alkynes = [(Chem.AddHs(mol), mol.GetProp(\"_Name\")) for mol in alkyne_supplier if mol is not None] # list of tuplas\n",
    "nitriles = [(Chem.AddHs(mol), mol.GetProp(\"_Name\")) for mol in nitrile_supplier if mol is not None] # list of tuplas\n",
    "\n",
    "print(type(alkynes))\n",
    "print(type(alkynes[0]))\n",
    "\n",
    "print(alkynes[0][0])\n",
    "print(alkynes[0][1])\n",
    "# Your code here\n",
    "# Tip: Use rdChemReactions.ReactionFromSmarts(...) and RunReactants as shown above"
   ]
  },
  {
   "cell_type": "code",
   "execution_count": null,
   "id": "2d2edc9c-c65d-4427-84c5-385c9901d682",
   "metadata": {},
   "outputs": [],
   "source": [
    "# 3. Define the pyridine-forming reaction\n",
    "# Reaction: 2 alkynes + 1 nitrile → pyridine (multiple regioisomers possible)\n",
    "# Define 4 reactions for each conformer\n",
    "reaction_smarts_list = [\n",
    "    (\"conf_1\", rdChemReactions.ReactionFromSmarts(\"[H:6][C:1]#[C:4].[H:7][C:2]#[C:5].[#6:8][C]#[N:3]>>c1([#6:8])[c:1]([H:6])[c:4][c:2]([H:7])[c:5][n:3]1\")),\n",
    "    (\"conf_2\", rdChemReactions.ReactionFromSmarts(\"[H:6][C:1]#[C:4].[H:7][C:2]#[C:5].[#6:8][C]#[N:3]>>c1([#6:8])[c:4][c:1]([H:6])[c:2]([H:7])[c:5][n:3]1\")),\n",
    "    (\"conf_3\", rdChemReactions.ReactionFromSmarts(\"[H:6][C:1]#[C:4].[H:7][C:2]#[C:5].[#6:8][C]#[N:3]>>c1([#6:8])[c:1]([H:6])[c:4][c:5][c:2]([H:7])[n:3]1\")),\n",
    "    (\"conf_4\", rdChemReactions.ReactionFromSmarts(\"[H:6][C:1]#[C:4].[H:7][C:2]#[C:5].[#6:8][C]#[N:3]>>c1([#6:8])[c:4][c:1]([H:6])[c:5][c:2]([H:7])[n:3]1\")),\n",
    "]\n",
    "\n",
    "#[Chem.AddHs(Chem.MolFromSmiles(smiles))for smiles in df_enamine['SMILES']\n",
    "\n",
    "# 4. Apply the reaction to all combinations\n",
    "# Storage\n",
    "product_names = []\n",
    "product_smiles = []\n",
    "used_alkyne_names = []\n",
    "used_nitrile_names = []\n",
    "conformer_ids = []\n",
    "\n",
    "product_count = 1\n",
    "\n",
    "for alkyne_mol, alkyne_name in alkynes: \n",
    "    for nitrile_mol, nitrile_name in nitriles:        \n",
    "        for conf_label, rxn in reaction_smarts_list:    # triple for-loop\n",
    "            try:\n",
    "                products = rxn.RunReactants((alkyne_mol, alkyne_mol, nitrile_mol))\n",
    "                for prod in products:\n",
    "                    mol = prod[0]        # takes the only element, which is the first of the tuple\n",
    "                    if mol is not None:\n",
    "                        Chem.SanitizeMol(mol)   # This function cleans and validates the generated molecule. It performs tasks such as:\n",
    "                                                # Assigning single, double, and aromatic bonds. Calculating formal charges if missing.\n",
    "                                                # Verify that the molecule is chemically valid.\n",
    "                        smi = Chem.MolToSmiles(mol)\n",
    "                        product_names.append(f\"py_{product_count}\")\n",
    "                        product_smiles.append(smi)\n",
    "                        used_alkyne_names.append(alkyne_name)\n",
    "                        used_nitrile_names.append(nitrile_name)\n",
    "                        conformer_ids.append(conf_label)\n",
    "                        product_count += 1\n",
    "            except:\n",
    "                continue  # Skip any failed reaction\n",
    "\n",
    "# 5. Save results to DataFrame and CSV\n",
    "df_pyridines = pd.DataFrame({\n",
    "    \"product_name\": product_names,\n",
    "    \"product_smiles\": product_smiles,\n",
    "    \"alkyne_name\": used_alkyne_names,\n",
    "    \"nitrile_name\": used_nitrile_names,\n",
    "    \"conformer\": conformer_ids\n",
    "})\n",
    "\n",
    "df_pyridines.to_csv(\"pyridine_products.csv\", index=False)\n",
    "df_pyridines.head()"
   ]
  },
  {
   "cell_type": "code",
   "execution_count": null,
   "id": "99dc8298-137e-4460-8cca-ef59a57a4504",
   "metadata": {},
   "outputs": [],
   "source": [
    "Draw.MolsToGridImage(df_pyridines[\"product_smiles\"][:8].apply(Chem.MolFromSmiles), molsPerRow=4, subImgSize=(200, 200))"
   ]
  },
  {
   "cell_type": "code",
   "execution_count": null,
   "id": "8aa8ebc8-76ec-46c3-81d9-35d558619737",
   "metadata": {},
   "outputs": [],
   "source": [
    "# Task 6: Now we are going to generate only 1 structural isomer from the reaction, the pyridine isomer that has all the substituents in meta.\n",
    "# Your code here"
   ]
  },
  {
   "cell_type": "code",
   "execution_count": null,
   "id": "2545bd50-5c58-45d1-b294-44a4d713287e",
   "metadata": {},
   "outputs": [],
   "source": [
    "#[Chem.AddHs(Chem.MolFromSmiles(smiles))for smiles in df_enamine['SMILES']"
   ]
  },
  {
   "cell_type": "markdown",
   "id": "bca81db6-3f37-4b1b-aa6b-32622df68dd8",
   "metadata": {
    "jp-MarkdownHeadingCollapsed": true
   },
   "source": [
    "### Solutions to the tasks"
   ]
  },
  {
   "cell_type": "code",
   "execution_count": null,
   "id": "d60c68b1-3d1c-4eda-9f00-a76a477bf974",
   "metadata": {},
   "outputs": [],
   "source": [
    "# Task 1: Convert this SMILES to a Mol and visualize\n",
    "practice_smiles = \"CCN(CC)CC\"\n",
    "# Your code here\n",
    "mol = Chem.MolFromSmiles(\"CCN(CC)CC\")\n",
    "Draw.MolToImage(mol, molsPerRow=1, subImgSize=(200, 200), legends='triethylamine')"
   ]
  },
  {
   "cell_type": "code",
   "execution_count": null,
   "id": "fedbd92e-cc1f-4c01-8595-7d552407f8e4",
   "metadata": {},
   "outputs": [],
   "source": [
    "# Task 2: From the CSV file 'oxygenated_compounds.csv', convert the SMILES to a Mol and visualize\n",
    "csv_file = 'oxygenated_compounds.csv'\n",
    "# Your code here\n",
    "df_loaded = pd.read_csv(csv_file)\n",
    "print(df_loaded)\n",
    "\n",
    "mols_csv = [Chem.MolFromSmiles(smi) for smi in df_loaded[\"SMILES\"]]\n",
    "Draw.MolsToGridImage(mols_csv, molsPerRow=5, subImgSize=(200, 200), legends=df_loaded[\"name\"].tolist())"
   ]
  },
  {
   "cell_type": "code",
   "execution_count": null,
   "id": "527c9e5a-2786-4b31-a4e9-48dd784a7c35",
   "metadata": {},
   "outputs": [],
   "source": [
    "# Task 3: From the SDF file alkynes.csv, convert the SMILES to a Mol and visualize\n",
    "sdf_file = 'alkynes.sdf'\n",
    "# Your code here\n",
    "# Load from SDF (have to be in the same folder than this .ipynb file)\n",
    "sdf_file = SDMolSupplier(sdf_file)\n",
    "valid_mols = [mol for mol in sdf_file if mol is not None]\n",
    "Draw.MolsToGridImage(valid_mols, molsPerRow=7, subImgSize=(200, 200))"
   ]
  },
  {
   "cell_type": "code",
   "execution_count": null,
   "id": "d24d4904-eaf7-44a0-a02d-9b2769afa034",
   "metadata": {},
   "outputs": [],
   "source": [
    "# Task 4: Does this molecule contain any oxygen atoms? Solve by applying SMART, obtaining a boolean\n",
    "molecule = \"CCN(CC)CC\"\n",
    "# Your code here\n",
    "\n",
    "pattern = \"O\"\n",
    "mol_pattern = Chem.MolFromSmarts(pattern)\n",
    "\n",
    "if (mol.HasSubstructMatch(mol_pattern)) == True:\n",
    "    word = 'contains'\n",
    "else:\n",
    "    word = \"doesn't contain\"\n",
    "    \n",
    "print(f'The molecule {molecule} {word} oxygen atoms')"
   ]
  },
  {
   "cell_type": "code",
   "execution_count": null,
   "id": "4cab84ae-7d98-445e-aebf-7fcacacabe26",
   "metadata": {},
   "outputs": [],
   "source": [
    "# Task 5: Filter molecules containing carboxylic acid groups using SMARTS and visualize them\n",
    "\"\"\"\n",
    "SMARTS Filtering from CSV\n",
    "\n",
    "We've prepared a CSV with some oxygenated compounds Your task is to:\n",
    "\n",
    "- Load the CSV into a DataFrame\n",
    "- Convert the SMILES to Mol objects\n",
    "- Define a SMARTS pattern for carboxylic acid groups\n",
    "- Filter and visualize only the molecules containing carboxylic acid groups groups\n",
    "\n",
    "Hint: Beware of aldehydes and ester.\n",
    "\"\"\"\n",
    "csv_file = 'oxygenated_compounds.csv'\n",
    "# Your code here\n",
    "\n",
    "df_task = pd.read_csv(csv_file)\n",
    "mols = [Chem.MolFromSmiles(smi) for smi in df_task['SMILES']]\n",
    "\n",
    "pattern_acid = '[CX3](=O)[OH]'\n",
    "mol_pattern = Chem.MolFromSmarts(pattern_acid)\n",
    "\n",
    "matched, unmatched = [], []\n",
    "for mol in mols:\n",
    "    if mol is not None:\n",
    "        (matched if mol.HasSubstructMatch(mol_pattern) else unmatched).append(mol)\n",
    "\n",
    "print(f\"Matched: {len(matched)} | Unmatched: {len(unmatched)}\")\n",
    "Draw.MolsToGridImage(matched, molsPerRow=7, subImgSize=(200,200))"
   ]
  },
  {
   "cell_type": "code",
   "execution_count": null,
   "id": "d1f77893-00a8-4d43-a72f-9b5552f594c7",
   "metadata": {},
   "outputs": [],
   "source": [
    "# Task 6: Now we are going to generate only 1 structural isomer from the reaction, the pyridine isomer that has all the substituents in meta.\n",
    "# Your code here\n",
    "# 1. Load SDF files\n",
    "alkyne_supplier = SDMolSupplier(\"alkynes_reducido.sdf\")\n",
    "nitrile_supplier = SDMolSupplier(\"nitriles_reducido.sdf\")\n",
    "\n",
    "# 2. Extract valid molecules and names # list o\n",
    "alkynes = [(Chem.AddHs(mol), mol.GetProp(\"_Name\")) for mol in alkyne_supplier if mol is not None] # list of tuplas\n",
    "nitriles = [(Chem.AddHs(mol), mol.GetProp(\"_Name\")) for mol in nitrile_supplier if mol is not None] # list of tuplas\n",
    "\n",
    "# 3. Define the pyridine-forming reaction\n",
    "# Reaction: 2 alkynes + 1 nitrile → pyridine (multiple regioisomers possible)\n",
    "# Define 4 reactions for each conformer\n",
    "reaction_smarts_list = [\n",
    "    (\"conf_1\", rdChemReactions.ReactionFromSmarts(\"[H:6][C:1]#[C:4].[H:7][C:2]#[C:5].[#6:8][C]#[N:3]>>c1([#6:8])[c:1]([H:6])[c:4][c:2]([H:7])[c:5][n:3]1\")),\n",
    "#    (\"conf_2\", rdChemReactions.ReactionFromSmarts(\"[H:6][C:1]#[C:4].[H:7][C:2]#[C:5].[#6:8][C]#[N:3]>>c1([#6:8])[c:4][c:1]([H:6])[c:2]([H:7])[c:5][n:3]1\")),\n",
    "#    (\"conf_3\", rdChemReactions.ReactionFromSmarts(\"[H:6][C:1]#[C:4].[H:7][C:2]#[C:5].[#6:8][C]#[N:3]>>c1([#6:8])[c:1]([H:6])[c:4][c:5][c:2]([H:7])[n:3]1\")),\n",
    "#    (\"conf_4\", rdChemReactions.ReactionFromSmarts(\"[H:6][C:1]#[C:4].[H:7][C:2]#[C:5].[#6:8][C]#[N:3]>>c1([#6:8])[c:4][c:1]([H:6])[c:5][c:2]([H:7])[n:3]1\")),\n",
    "]\n",
    "\n",
    "#[Chem.AddHs(Chem.MolFromSmiles(smiles))for smiles in df_enamine['SMILES']\n",
    "\n",
    "# 4. Apply the reaction to all combinations\n",
    "# Storage\n",
    "product_names = []\n",
    "product_smiles = []\n",
    "used_alkyne_names = []\n",
    "used_nitrile_names = []\n",
    "conformer_ids = []\n",
    "\n",
    "product_count = 1\n",
    "\n",
    "for alkyne_mol, alkyne_name in alkynes: \n",
    "    for nitrile_mol, nitrile_name in nitriles:        \n",
    "        for conf_label, rxn in reaction_smarts_list:    # triple for-loop\n",
    "            try:\n",
    "                products = rxn.RunReactants((alkyne_mol, alkyne_mol, nitrile_mol))\n",
    "                for prod in products:\n",
    "                    mol = prod[0]        # takes the only element, which is the first of the tuple\n",
    "                    if mol is not None:\n",
    "                        Chem.SanitizeMol(mol)   # This function cleans and validates the generated molecule. It performs tasks such as:\n",
    "                                                # Assigning single, double, and aromatic bonds. Calculating formal charges if missing.\n",
    "                                                # Verify that the molecule is chemically valid.\n",
    "                        smi = Chem.MolToSmiles(mol)\n",
    "                        product_names.append(f\"py_{product_count}\")\n",
    "                        product_smiles.append(smi)\n",
    "                        used_alkyne_names.append(alkyne_name)\n",
    "                        used_nitrile_names.append(nitrile_name)\n",
    "                        conformer_ids.append(conf_label)\n",
    "                        product_count += 1\n",
    "            except:\n",
    "                continue  # Skip any failed reaction\n",
    "\n",
    "# 5. Save results to DataFrame and CSV\n",
    "df_pyridines = pd.DataFrame({\n",
    "    \"product_name\": product_names,\n",
    "    \"product_smiles\": product_smiles,\n",
    "    \"alkyne_name\": used_alkyne_names,\n",
    "    \"nitrile_name\": used_nitrile_names,\n",
    "    \"conformer\": conformer_ids\n",
    "})\n",
    "\n",
    "df_pyridines.to_csv(\"pyridine_products_conf.csv\", index=False)\n",
    "df_pyridines.head()\n",
    "\n",
    "Draw.MolsToGridImage(df_pyridines[\"product_smiles\"][:8].apply(Chem.MolFromSmiles), molsPerRow=4, subImgSize=(200, 200))"
   ]
  }
 ],
 "metadata": {
  "kernelspec": {
   "display_name": "Python [conda env:python_work]",
   "language": "python",
   "name": "conda-env-python_work-py"
  },
  "language_info": {
   "codemirror_mode": {
    "name": "ipython",
    "version": 3
   },
   "file_extension": ".py",
   "mimetype": "text/x-python",
   "name": "python",
   "nbconvert_exporter": "python",
   "pygments_lexer": "ipython3",
   "version": "3.12.9"
  }
 },
 "nbformat": 4,
 "nbformat_minor": 5
}
