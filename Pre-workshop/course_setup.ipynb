{
 "cells": [
  {
   "cell_type": "markdown",
   "id": "4cacb216-51fc-460a-afa9-4e1350c89519",
   "metadata": {},
   "source": [
    "### Check package installations"
   ]
  },
  {
   "cell_type": "code",
   "execution_count": null,
   "id": "e7c56a3c-cbb7-4a4a-9727-9c3d5cd60af4",
   "metadata": {
    "tags": []
   },
   "outputs": [],
   "source": [
    "import numpy #https://numpy.org\n",
    "import matplotlib #https://matplotlib.org\n",
    "import rdkit #http://www.rdkit.org/docs/index.html\n",
    "import pandas #https://pandas.pydata.org/docs/getting_started/index.html\n",
    "import aqme #https://aqme.readthedocs.io/en/latest/"
   ]
  },
  {
   "cell_type": "markdown",
   "id": "6789fa9b-d8c5-4b18-b83c-bfe7b70e4eb5",
   "metadata": {
    "tags": []
   },
   "source": [
    "If you receive a \"ModuleNotFoundError\" error message, try executing the next line in a new cell \n",
    "> !pip install \\\\$module \n",
    "\n",
    "where \\\\$module is the name of the module not found."
   ]
  },
  {
   "cell_type": "markdown",
   "id": "26166918-d723-46b1-a330-e251cf4d8ef8",
   "metadata": {},
   "source": [
    "### To see if AQME was properly installed:"
   ]
  },
  {
   "cell_type": "code",
   "execution_count": null,
   "id": "3ca4acaa",
   "metadata": {},
   "outputs": [],
   "source": [
    "!python -m aqme --help #https://aqme.readthedocs.io/en/latest/"
   ]
  },
  {
   "cell_type": "markdown",
   "id": "d6bdecf6",
   "metadata": {},
   "source": [
    "### To see if ROBERT was properly installed:"
   ]
  },
  {
   "cell_type": "code",
   "execution_count": null,
   "id": "ff204318-e875-44e3-ae27-3ad3b8195071",
   "metadata": {},
   "outputs": [],
   "source": [
    "!python -m robert --help #https://robert.readthedocs.io/en/latest/"
   ]
  },
  {
   "cell_type": "markdown",
   "id": "5551837f-2180-4cdd-9c08-8cfa3f7c650c",
   "metadata": {},
   "source": [
    "### To see if xTB was properly intalled:"
   ]
  },
  {
   "cell_type": "code",
   "execution_count": null,
   "id": "560afad3-449b-4595-98d8-0601755f5f85",
   "metadata": {},
   "outputs": [],
   "source": [
    "!xtb --help"
   ]
  }
 ],
 "metadata": {
  "kernelspec": {
   "display_name": "cheminf",
   "language": "python",
   "name": "python3"
  },
  "language_info": {
   "codemirror_mode": {
    "name": "ipython",
    "version": 3
   },
   "file_extension": ".py",
   "mimetype": "text/x-python",
   "name": "python",
   "nbconvert_exporter": "python",
   "pygments_lexer": "ipython3",
   "version": "3.12.8"
  }
 },
 "nbformat": 4,
 "nbformat_minor": 5
}
